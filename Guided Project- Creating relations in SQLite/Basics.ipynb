{
 "cells": [
  {
   "cell_type": "code",
   "execution_count": 2,
   "metadata": {
    "collapsed": true
   },
   "outputs": [],
   "source": [
    "import sqlite3\n",
    "\n",
    "conn = sqlite3.connect('nominations.db')"
   ]
  },
  {
   "cell_type": "code",
   "execution_count": 5,
   "metadata": {},
   "outputs": [],
   "source": [
    "q1 = 'pragma table_info(nominations)'\n",
    "q2 = 'SELECT * FROM nominations LIMIT 10'\n",
    "\n",
    "schema = conn.execute(q1).fetchall()\n",
    "first_ten = conn.execute(q2).fetchall()"
   ]
  },
  {
   "cell_type": "code",
   "execution_count": 6,
   "metadata": {},
   "outputs": [
    {
     "name": "stdout",
     "output_type": "stream",
     "text": [
      "(0, u'Year', u'INTEGER', 0, None, 0)\n",
      "(1, u'Category', u'TEXT', 0, None, 0)\n",
      "(2, u'Nominee', u'TEXT', 0, None, 0)\n",
      "(3, u'Won', u'INTEGER', 0, None, 0)\n",
      "(4, u'Movie', u'TEXT', 0, None, 0)\n",
      "(5, u'Character', u'TEXT', 0, None, 0)\n"
     ]
    }
   ],
   "source": [
    "for item in schema:\n",
    "    print(item)"
   ]
  },
  {
   "cell_type": "code",
   "execution_count": 7,
   "metadata": {},
   "outputs": [
    {
     "name": "stdout",
     "output_type": "stream",
     "text": [
      "(2010, u'Actor -- Leading Role', u'Javier Bardem', 0, u'Biutiful', u'Uxbal')\n",
      "(2010, u'Actor -- Leading Role', u'Jeff Bridges', 0, u'True Grit', u'Rooster Cogburn')\n",
      "(2010, u'Actor -- Leading Role', u'Jesse Eisenberg', 0, u'The Social Network', u'Mark Zuckerberg')\n",
      "(2010, u'Actor -- Leading Role', u'Colin Firth', 1, u\"The King's Speech\", u'King George VI')\n",
      "(2010, u'Actor -- Leading Role', u'James Franco', 0, u'127 Hours', u'Aron Ralston')\n",
      "(2010, u'Actor -- Supporting Role', u'Christian Bale', 1, u'The Fighter', u'Dicky Eklund')\n",
      "(2010, u'Actor -- Supporting Role', u'John Hawkes', 0, u\"Winter's Bone\", u'Teardrop')\n",
      "(2010, u'Actor -- Supporting Role', u'Jeremy Renner', 0, u'The Town', u'James Coughlin')\n",
      "(2010, u'Actor -- Supporting Role', u'Mark Ruffalo', 0, u'The Kids Are All Right', u'Paul')\n",
      "(2010, u'Actor -- Supporting Role', u'Geoffrey Rush', 0, u\"The King's Speech\", u'Lionel Logue')\n"
     ]
    }
   ],
   "source": [
    "for item in first_ten:\n",
    "    print(item)"
   ]
  },
  {
   "cell_type": "markdown",
   "metadata": {},
   "source": [
    "### Create ceremonies table"
   ]
  },
  {
   "cell_type": "code",
   "execution_count": 8,
   "metadata": {
    "collapsed": true
   },
   "outputs": [],
   "source": [
    "q3 = '''CREATE TABLE ceremonies(\n",
    "id integer PRIMARY KEY,\n",
    "Year integer,\n",
    "Host text)\n",
    "'''\n",
    "conn.execute(q3)\n",
    "years_hosts = [(2010, \"Steve Martin\"),\n",
    "               (2009, \"Hugh Jackman\"),\n",
    "               (2008, \"Jon Stewart\"),\n",
    "               (2007, \"Ellen DeGeneres\"),\n",
    "               (2006, \"Jon Stewart\"),\n",
    "               (2005, \"Chris Rock\"),\n",
    "               (2004, \"Billy Crystal\"),\n",
    "               (2003, \"Steve Martin\"),\n",
    "               (2002, \"Whoopi Goldberg\"),\n",
    "               (2001, \"Steve Martin\"),\n",
    "               (2000, \"Billy Crystal\"),\n",
    "            ]"
   ]
  },
  {
   "cell_type": "code",
   "execution_count": 9,
   "metadata": {},
   "outputs": [
    {
     "data": {
      "text/plain": [
       "<sqlite3.Cursor at 0x7ff8c855e9d0>"
      ]
     },
     "execution_count": 9,
     "metadata": {},
     "output_type": "execute_result"
    }
   ],
   "source": [
    "q4 = 'INSERT INTO ceremonies (Year, Host) VALUES (?, ?)'\n",
    "conn.executemany(q4, years_hosts)"
   ]
  },
  {
   "cell_type": "code",
   "execution_count": 11,
   "metadata": {},
   "outputs": [],
   "source": [
    "ten = conn.execute('SELECT * FROM ceremonies LIMIT 10').fetchall()"
   ]
  },
  {
   "cell_type": "code",
   "execution_count": 12,
   "metadata": {},
   "outputs": [
    {
     "name": "stdout",
     "output_type": "stream",
     "text": [
      "(1, 2010, u'Steve Martin')\n",
      "(2, 2009, u'Hugh Jackman')\n",
      "(3, 2008, u'Jon Stewart')\n",
      "(4, 2007, u'Ellen DeGeneres')\n",
      "(5, 2006, u'Jon Stewart')\n",
      "(6, 2005, u'Chris Rock')\n",
      "(7, 2004, u'Billy Crystal')\n",
      "(8, 2003, u'Steve Martin')\n",
      "(9, 2002, u'Whoopi Goldberg')\n",
      "(10, 2001, u'Steve Martin')\n"
     ]
    }
   ],
   "source": [
    "for item in ten:\n",
    "    print(item)"
   ]
  },
  {
   "cell_type": "code",
   "execution_count": 13,
   "metadata": {},
   "outputs": [
    {
     "data": {
      "text/plain": [
       "<sqlite3.Cursor at 0x7ff8c855eb90>"
      ]
     },
     "execution_count": 13,
     "metadata": {},
     "output_type": "execute_result"
    }
   ],
   "source": [
    "q5 = 'PRAGMA foreign_key = ON'\n",
    "conn.execute(q5)"
   ]
  },
  {
   "cell_type": "code",
   "execution_count": 15,
   "metadata": {},
   "outputs": [
    {
     "data": {
      "text/plain": [
       "<sqlite3.Cursor at 0x7ff8c855eb20>"
      ]
     },
     "execution_count": 15,
     "metadata": {},
     "output_type": "execute_result"
    }
   ],
   "source": [
    "q6 = '''CREATE TABLE nominations_two(\n",
    "id integer PRIMARY KEY,\n",
    "Category text,\n",
    "Nominee text,\n",
    "Movie text,\n",
    "Character text,\n",
    "Won text,\n",
    "ceremony_id integer,\n",
    "FOREIGN KEY(ceremony_id) REFERENCES ceremonies(id)\n",
    ")'''\n",
    "conn.execute(q6)"
   ]
  },
  {
   "cell_type": "code",
   "execution_count": 28,
   "metadata": {},
   "outputs": [],
   "source": [
    "q7 = '''SELECT nominations.Category,nominations.Nominee, nominations.Movie, nominations.Character, nominations.Won, ceremonies.id\n",
    "FROM nominations\n",
    "INNER JOIN ceremonies ON\n",
    "nominations.Year == ceremonies.Year'''\n",
    "\n",
    "joined_nominations = conn.execute(q7).fetchall()"
   ]
  },
  {
   "cell_type": "code",
   "execution_count": 30,
   "metadata": {},
   "outputs": [
    {
     "data": {
      "text/plain": [
       "<sqlite3.Cursor at 0x7ff8c84e5180>"
      ]
     },
     "execution_count": 30,
     "metadata": {},
     "output_type": "execute_result"
    }
   ],
   "source": [
    "insert_nominations_two = '''INSERT INTO nominations_two (Category, Nominee, Movie, Character, Won, ceremony_id) VALUES (?, ?, ?, ?, ?, ?)'''\n",
    "conn.executemany(insert_nominations_two, joined_nominations)"
   ]
  },
  {
   "cell_type": "code",
   "execution_count": 31,
   "metadata": {},
   "outputs": [
    {
     "name": "stdout",
     "output_type": "stream",
     "text": [
      "(1, u'Actor -- Leading Role', u'Javier Bardem', u'Biutiful', u'Uxbal', u'0', 1)\n",
      "(2, u'Actor -- Leading Role', u'Jeff Bridges', u'True Grit', u'Rooster Cogburn', u'0', 1)\n",
      "(3, u'Actor -- Leading Role', u'Jesse Eisenberg', u'The Social Network', u'Mark Zuckerberg', u'0', 1)\n",
      "(4, u'Actor -- Leading Role', u'Colin Firth', u\"The King's Speech\", u'King George VI', u'1', 1)\n",
      "(5, u'Actor -- Leading Role', u'James Franco', u'127 Hours', u'Aron Ralston', u'0', 1)\n"
     ]
    }
   ],
   "source": [
    "content = conn.execute('SELECT * FROM nominations_two LIMIT 5')\n",
    "for item in content:\n",
    "    print(item)"
   ]
  },
  {
   "cell_type": "code",
   "execution_count": 33,
   "metadata": {},
   "outputs": [
    {
     "data": {
      "text/plain": [
       "<sqlite3.Cursor at 0x7ff8c84c3dc0>"
      ]
     },
     "execution_count": 33,
     "metadata": {},
     "output_type": "execute_result"
    }
   ],
   "source": [
    "conn.close()\n",
    "conn = sqlite3.connect('nominations.db')\n",
    "conn.execute('DROP TABLE nominations')\n",
    "conn.execute('ALTER TABLE nominations_two RENAME TO nominations')"
   ]
  },
  {
   "cell_type": "code",
   "execution_count": 34,
   "metadata": {},
   "outputs": [
    {
     "data": {
      "text/plain": [
       "<sqlite3.Cursor at 0x7ff8c84f2110>"
      ]
     },
     "execution_count": 34,
     "metadata": {},
     "output_type": "execute_result"
    }
   ],
   "source": [
    "conn.execute('''CREATE TABLE movies(id integer PRIMARY KEY, movie text) ''')\n",
    "conn.execute('''CREATE TABLE actors(id integer PRIMARY KEY, actor text)''')"
   ]
  },
  {
   "cell_type": "code",
   "execution_count": 35,
   "metadata": {},
   "outputs": [
    {
     "data": {
      "text/plain": [
       "<sqlite3.Cursor at 0x7ff8c84f2180>"
      ]
     },
     "execution_count": 35,
     "metadata": {},
     "output_type": "execute_result"
    }
   ],
   "source": [
    "conn.execute('''CREATE TABLE movies_actors(id integer PRIMARY KEY, movie_id integer REFERENCES movies(id), actor_id integer REFERENCES actors(id))''')\n"
   ]
  },
  {
   "cell_type": "code",
   "execution_count": null,
   "metadata": {
    "collapsed": true
   },
   "outputs": [],
   "source": [
    "movies_content = conn.execute('SELECT ')"
   ]
  }
 ],
 "metadata": {
  "kernelspec": {
   "display_name": "Python 2",
   "language": "python",
   "name": "python2"
  },
  "language_info": {
   "codemirror_mode": {
    "name": "ipython",
    "version": 2
   },
   "file_extension": ".py",
   "mimetype": "text/x-python",
   "name": "python",
   "nbconvert_exporter": "python",
   "pygments_lexer": "ipython2",
   "version": "2.7.13"
  }
 },
 "nbformat": 4,
 "nbformat_minor": 1
}
